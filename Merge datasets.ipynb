{
 "cells": [
  {
   "cell_type": "markdown",
   "metadata": {},
   "source": [
    "#### 分割C4EL.LE数据集"
   ]
  },
  {
   "cell_type": "code",
   "execution_count": 2,
   "metadata": {},
   "outputs": [],
   "source": [
    "import json"
   ]
  },
  {
   "cell_type": "code",
   "execution_count": 3,
   "metadata": {},
   "outputs": [
    {
     "name": "stdout",
     "output_type": "stream",
     "text": [
      "4972126\n",
      "{'text': {'in situ': '\\nWe have a long history of highly complex projects completed on time and to budget. Projects are often carried out with the building’s occupying tenants in situ, causing minimal disruption.\\nJPW Osprey Limited’s approach to health and safety is extremely important on all projects.'}, 'timestamp': '2019-04-26T12:51:38Z', 'language': 'en', 'phrase': {'in situ': 1}, 'url': 'http://jpwosprey.com/'}\n"
     ]
    }
   ],
   "source": [
    "local_data = []\n",
    "with open('./data/C4EL/C4.EN_Latin_phrases.json', 'r', encoding='utf-8') as file:\n",
    "    local_data = json.load(file)\n",
    "print(len(local_data))\n",
    "print(local_data[0])"
   ]
  },
  {
   "cell_type": "code",
   "execution_count": 11,
   "metadata": {},
   "outputs": [
    {
     "name": "stdout",
     "output_type": "stream",
     "text": [
      "621515\n",
      "0 621515\n",
      "621515 1243030\n",
      "1243030 1864545\n",
      "1864545 2486060\n",
      "2486060 3107575\n",
      "3107575 3729090\n",
      "3729090 4350605\n",
      "4350605\n"
     ]
    }
   ],
   "source": [
    "# 计算每个部分的数据量\n",
    "total_items = len(local_data)\n",
    "items_per = total_items // 8\n",
    "print(items_per)\n",
    "\n",
    "# 分割数据并写入新的 JSON 文件\n",
    "for i in range(8):\n",
    "    # if i > 0:\n",
    "    #     break\n",
    "    value = i*items_per\n",
    "    if i == 7:\n",
    "        ele_list = local_data[0+value:]\n",
    "        print(0+value)\n",
    "    else:\n",
    "        ele_list = local_data[0+value: items_per+value]\n",
    "        print(0+value, items_per+value)\n",
    "    \n",
    "    file_root = './data/C4EL/C4EL/LE/'\n",
    "    with open(file_root+'C4.EN_Latin_phrases_'+str(i+1)+'.json', 'w') as outfile:\n",
    "        json.dump(ele_list, outfile, indent=2)\n",
    "    outfile.close()         "
   ]
  },
  {
   "cell_type": "code",
   "execution_count": 6,
   "metadata": {},
   "outputs": [
    {
     "name": "stdout",
     "output_type": "stream",
     "text": [
      "621515\n",
      "{'text': {'in situ': '\\nWe have a long history of highly complex projects completed on time and to budget. Projects are often carried out with the building’s occupying tenants in situ, causing minimal disruption.\\nJPW Osprey Limited’s approach to health and safety is extremely important on all projects.'}, 'timestamp': '2019-04-26T12:51:38Z', 'language': 'en', 'phrase': {'in situ': 1}, 'url': 'http://jpwosprey.com/'}\n"
     ]
    }
   ],
   "source": [
    "local_data = []\n",
    "with open('data/C4EL/C4EL/LE/C4.EN_Latin_phrases_1.json', 'r', encoding='utf-8') as file:\n",
    "    local_data = json.load(file)\n",
    "print(len(local_data))\n",
    "print(local_data[0])"
   ]
  },
  {
   "cell_type": "markdown",
   "metadata": {},
   "source": [
    "#### 合并C4EL.EN数据集"
   ]
  },
  {
   "cell_type": "code",
   "execution_count": 8,
   "metadata": {},
   "outputs": [
    {
     "name": "stdout",
     "output_type": "stream",
     "text": [
      "503969\n"
     ]
    }
   ],
   "source": [
    "models = ['mistral v0.1', 'mistral v0.2', 'mistral v0.3', 'openchat', 'llama3.1', 'solar', 'mixtral', 'llama3']\n",
    "models_label = ['Mistral v0.1-7B', 'Mistral v0.2-7B', 'Mistral v0.3-7B', 'OpenChat 3.5-7B', 'Llama 3.1-8B', 'SOLAR v1.0-10.7B', 'Mixtral v0.1-8x7B-awq', 'Llama 3-70B-awq']\n",
    "\n",
    "new_eles = []\n",
    "for i in range(len(models)):\n",
    "    file_name = './data/llm2.1.2/sbert/similarity-out/bge-m3/LE-dataset v2.0-150-'+ models[i] +'-output(similarity) v2.1.2.json'\n",
    "    with open(file_name, 'r', encoding='utf-8') as file:\n",
    "        data = json.load(file)\n",
    "        # print(len(data))\n",
    "        for ele in data:\n",
    "            llm = models_label[i]\n",
    "            lat =  ele['Latin phrase']\n",
    "            cm = ele['local sentence']\n",
    "            en = ele['llmed response']\n",
    "            sc = ele['similarity score']\n",
    "            new_eles.append({'LLM': llm, 'phrase': lat, 'code-mxing': cm, 'English text': en, 'similarity score': sc})\n",
    "    file.close()\n",
    "print(len(new_eles))\n",
    "with open('./data/C4EL/C4EL.EN/en_text.json', 'w') as file:\n",
    "    json.dump(new_eles, file, indent=2)\n",
    "file.close()"
   ]
  }
 ],
 "metadata": {
  "kernelspec": {
   "display_name": "Python 3",
   "language": "python",
   "name": "python3"
  },
  "language_info": {
   "codemirror_mode": {
    "name": "ipython",
    "version": 3
   },
   "file_extension": ".py",
   "mimetype": "text/x-python",
   "name": "python",
   "nbconvert_exporter": "python",
   "pygments_lexer": "ipython3",
   "version": "3.8.10"
  }
 },
 "nbformat": 4,
 "nbformat_minor": 2
}
